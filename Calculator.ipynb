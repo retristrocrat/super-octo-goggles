{
 "cells": [
  {
   "cell_type": "code",
   "execution_count": 3,
   "id": "cf352433",
   "metadata": {},
   "outputs": [
    {
     "name": "stdout",
     "output_type": "stream",
     "text": [
      "Do you want to perform some arithematic operations?:yes\n",
      "Write the name of the arithematic operation you want to perform, eg: addition, substraction, etc: Division\n",
      "Write the number you want to divide: 55\n",
      "Write the number you want to divide from: 5\n",
      "If you divide 55 from 5 you will get  11.0\n",
      "Do you want to perform some arithematic operations?:no\n",
      "Goodbye :)\n"
     ]
    }
   ],
   "source": [
    "#Calculator\n",
    "\n",
    "\"This is a Calculator, you can solve normal arithmatic problems here\"\n",
    "\n",
    "\n",
    "def main():\n",
    "    while True:\n",
    "        g = str(input('Do you want to perform some arithematic operations?:'))\n",
    "        if g == 'no':\n",
    "            print('Goodbye :)')\n",
    "            break\n",
    "         \n",
    "        elif g == 'yes':\n",
    "            action = input('Write the name of the arithematic operation you want to perform, eg: addition, substraction, etc: ')\n",
    "            \n",
    "            if action == 'Addition': \n",
    "                f_no = int(input('Write the first number for addition: '))\n",
    "                s_no = int(input('Write the second number for addition: '))\n",
    "                print('If you do addition on these 2 numbers the final answer will be',f_no + s_no)\n",
    "                \n",
    "            elif action == 'Substraction':\n",
    "                f_no = int(input('Write the 1st number you want to substract : '))\n",
    "                s_no = int(input('Write the 2nd number you want to substract: '))\n",
    "                print('If you substract',s_no,'from',f_no,'you will get',f_no - s_no)\n",
    "            \n",
    "            elif action == 'Multiplication':\n",
    "                f_no = int(input('Write the 1st number for multiplication: '))\n",
    "                s_no = int(input('Write the 2nd number for multiplication: '))\n",
    "                print('If you multiply',f_no,'with',s_no,'you will get',f_no*s_no)\n",
    "                \n",
    "            elif action == 'Division':\n",
    "                f_no = int(input('Write the number you want to divide: '))\n",
    "                s_no = int(input('Write the number you want to divide from: '))\n",
    "                print('If you divide',f_no,'from',s_no,'you will get ',f_no/s_no)\n",
    "            \n",
    "            else:\n",
    "                print('Invalid operation')\n",
    "            \n",
    "if __name__ == \"__main__\":\n",
    "    main()"
   ]
  },
  {
   "cell_type": "code",
   "execution_count": null,
   "id": "a2d4eae9",
   "metadata": {},
   "outputs": [],
   "source": []
  }
 ],
 "metadata": {
  "kernelspec": {
   "display_name": "Python 3 (ipykernel)",
   "language": "python",
   "name": "python3"
  },
  "language_info": {
   "codemirror_mode": {
    "name": "ipython",
    "version": 3
   },
   "file_extension": ".py",
   "mimetype": "text/x-python",
   "name": "python",
   "nbconvert_exporter": "python",
   "pygments_lexer": "ipython3",
   "version": "3.9.13"
  }
 },
 "nbformat": 4,
 "nbformat_minor": 5
}
