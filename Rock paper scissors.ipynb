{
 "cells": [
  {
   "cell_type": "code",
   "execution_count": 2,
   "id": "e95c28b7",
   "metadata": {},
   "outputs": [
    {
     "name": "stdout",
     "output_type": "stream",
     "text": [
      "----Game Rules----\n",
      "Paper beats rock\n",
      "Rock beats scissors\n",
      "Scissors beats paper\n",
      "Choose one: Rock, Paper, or Scissors:\n",
      "Enter your choice:Rock\n",
      "\n",
      "You chose: Rock\n",
      "Computer chose: Scissors\n",
      "Computer wins\n",
      "\n",
      "Do you want to play again? (yes/no): yes\n",
      "Choose one: Rock, Paper, or Scissors:\n",
      "Enter your choice:Scissors\n",
      "\n",
      "You chose: Scissors\n",
      "Computer chose: Rock\n",
      "Computer wins\n",
      "\n",
      "Do you want to play again? (yes/no): no\n",
      "Thanks for playing!\n"
     ]
    }
   ],
   "source": [
    "#Rock, Paper, Scissors Game\n",
    "import random \n",
    "\n",
    "def display_rules():\n",
    "    print('----Game Rules----')\n",
    "    print('Paper beats rock')\n",
    "    print('Rock beats scissors')\n",
    "    print('Scissors beats paper')\n",
    "    \n",
    "\n",
    "def players_choice():\n",
    "    while True:\n",
    "        print('Choose one: Rock, Paper, or Scissors:')\n",
    "        players_choice = input('Enter your choice:')\n",
    "        if players_choice in ['Rock','Paper','Scissors']:\n",
    "            return players_choice\n",
    "        else:\n",
    "            print('Invalid input')\n",
    "            \n",
    "def comp_choice():\n",
    "    return random.choice(['rock', 'paper','scissors'])\n",
    "\n",
    "\n",
    "def determine_winner(players_choice, comp_choice):\n",
    "    if players_choice == comp_choice:\n",
    "        return 'Its a tie'\n",
    "    \n",
    "    elif (players_choice == 'Scissors' and comp_choice == 'Paper') or \\\n",
    "         (players_choice == 'Rock' and comp_choice == 'Scissors')  or \\\n",
    "         (players_choice == 'Paper' and comp_choice == 'Rock'):\n",
    "        return 'you win'\n",
    "    \n",
    "    else:\n",
    "        return 'Computer wins'\n",
    "    \n",
    "    \n",
    "def play_game():\n",
    "    display_rules()\n",
    "    while True:\n",
    "        player_choice = players_choice()\n",
    "        computer_choice = comp_choice()\n",
    "        \n",
    "        print(f\"\\nYou chose: {player_choice.capitalize()}\")\n",
    "        print(f\"Computer chose: {computer_choice.capitalize()}\")\n",
    "        \n",
    "        result = determine_winner(player_choice, computer_choice)\n",
    "        print(result)\n",
    "\n",
    "        # Ask if the player wants to play again\n",
    "        play_again = input(\"\\nDo you want to play again? (yes/no): \").strip().lower()\n",
    "        if play_again != 'yes':\n",
    "            print(\"Thanks for playing!\")\n",
    "            break\n",
    "\n",
    "# Run the program\n",
    "if __name__ == \"__main__\":\n",
    "    play_game()\n",
    "    "
   ]
  },
  {
   "cell_type": "code",
   "execution_count": null,
   "id": "045ea954",
   "metadata": {},
   "outputs": [],
   "source": []
  }
 ],
 "metadata": {
  "kernelspec": {
   "display_name": "Python 3 (ipykernel)",
   "language": "python",
   "name": "python3"
  },
  "language_info": {
   "codemirror_mode": {
    "name": "ipython",
    "version": 3
   },
   "file_extension": ".py",
   "mimetype": "text/x-python",
   "name": "python",
   "nbconvert_exporter": "python",
   "pygments_lexer": "ipython3",
   "version": "3.9.13"
  }
 },
 "nbformat": 4,
 "nbformat_minor": 5
}
